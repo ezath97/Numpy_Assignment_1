{
 "cells": [
  {
   "cell_type": "code",
   "execution_count": 3,
   "id": "f33e7417",
   "metadata": {},
   "outputs": [
    {
     "name": "stdout",
     "output_type": "stream",
     "text": [
      "[0 0 0 0 1 0 0 0 0 0]\n"
     ]
    }
   ],
   "source": [
    "# Q1.Create a null vector of size 10 but the fifth value which is 1.\n",
    "\n",
    "# Solution:\n",
    "import numpy as np\n",
    "\n",
    "array = np.zeros(10, dtype=int)\n",
    "array[4] = 1\n",
    "print(array)"
   ]
  },
  {
   "cell_type": "code",
   "execution_count": 30,
   "id": "467c1db0",
   "metadata": {},
   "outputs": [
    {
     "name": "stdout",
     "output_type": "stream",
     "text": [
      "[10 11 12 13 14 15 16 17 18 19 20 21 22 23 24 25 26 27 28 29 30 31 32 33\n",
      " 34 35 36 37 38 39 40 41 42 43 44 45 46 47 48 49]\n"
     ]
    }
   ],
   "source": [
    "# Q2.Create a vector with values ranging from 10 to 49.\n",
    "\n",
    "#Solution:\n",
    "array = np.arange(10,50)\n",
    "print(array)"
   ]
  },
  {
   "cell_type": "code",
   "execution_count": 5,
   "id": "7dc87899",
   "metadata": {},
   "outputs": [
    {
     "name": "stdout",
     "output_type": "stream",
     "text": [
      "[[0 1 2]\n",
      " [3 4 5]\n",
      " [6 7 8]]\n"
     ]
    }
   ],
   "source": [
    "# Q3. Create a 3x3 matrix with values ranging from 0 to 8\n",
    "\n",
    "#Solution:\n",
    "array = np.arange(9).reshape(3,3)\n",
    "print(array)"
   ]
  },
  {
   "cell_type": "code",
   "execution_count": 19,
   "id": "bfe826ca",
   "metadata": {},
   "outputs": [
    {
     "name": "stdout",
     "output_type": "stream",
     "text": [
      "Indices of non-zero elements are:  [0, 1, 4]\n"
     ]
    }
   ],
   "source": [
    "# Q4.Find indices of non-zero elements from [1,2,0,0,4,0]\n",
    "\n",
    "#Solution:\n",
    "array = np.array([1, 2, 0, 0, 4, 0])\n",
    "indices = np.nonzero(array)\n",
    "print(\"Indices of non-zero elements are: \",list(indices[0]))"
   ]
  },
  {
   "cell_type": "code",
   "execution_count": 27,
   "id": "e52c007a",
   "metadata": {},
   "outputs": [
    {
     "name": "stdout",
     "output_type": "stream",
     "text": [
      "[[37 41 31 40 92 84 68 16 20 30]\n",
      " [10 84 24 65 87  1 26 22 76 46]\n",
      " [76  0 11 46 41 18  4  0  5 43]\n",
      " [29 22 85 17 66  6 85 59 47 12]\n",
      " [46 23 51 33 32 22 89 79 58  3]\n",
      " [47 85 34 80 10 30 18 88 34 65]\n",
      " [87 52 36 47 29  6 78 15 76 38]\n",
      " [90 73 35 45 35 10 50 78 55 11]\n",
      " [51 91 47 32 55 74 53 11 50 97]\n",
      " [25 82 37 89 55 41 81 64 71 82]]\n",
      "Minimum value: 0\n",
      "Maximum value: 97\n"
     ]
    }
   ],
   "source": [
    "# Q5.Create a 10x10 array with random values and find the minimum and maximum values.\n",
    "\n",
    "#Solution:\n",
    "array = np.random.randint(100,size=(10, 10))\n",
    "minimum = np.min(array)\n",
    "maximum = np.max(array)\n",
    "\n",
    "print(array)\n",
    "print(\"Minimum value:\", minimum)\n",
    "print(\"Maximum value:\", maximum)"
   ]
  },
  {
   "cell_type": "code",
   "execution_count": 29,
   "id": "34ee69a8",
   "metadata": {},
   "outputs": [
    {
     "name": "stdout",
     "output_type": "stream",
     "text": [
      "[27 37 51 23 21 93 54  7 77 55 65 93 54 28 45  6 90 78 50 55 36  3  9 67\n",
      " 71 58 17 95  6 13]\n",
      "Mean value: 46.13333333333333\n"
     ]
    }
   ],
   "source": [
    "# Q6.Create a random vector of size 30 and find the mean value.\n",
    "\n",
    "#Solution:\n",
    "array = np.random.randint(100,size=(30))\n",
    "Mean = np.mean(array)\n",
    "\n",
    "print(array)\n",
    "print(\"Mean value:\", Mean)"
   ]
  },
  {
   "cell_type": "code",
   "execution_count": null,
   "id": "1655a702",
   "metadata": {},
   "outputs": [],
   "source": []
  }
 ],
 "metadata": {
  "kernelspec": {
   "display_name": "Python 3 (ipykernel)",
   "language": "python",
   "name": "python3"
  },
  "language_info": {
   "codemirror_mode": {
    "name": "ipython",
    "version": 3
   },
   "file_extension": ".py",
   "mimetype": "text/x-python",
   "name": "python",
   "nbconvert_exporter": "python",
   "pygments_lexer": "ipython3",
   "version": "3.9.13"
  }
 },
 "nbformat": 4,
 "nbformat_minor": 5
}
